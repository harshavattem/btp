{
 "cells": [
  {
   "cell_type": "code",
   "execution_count": 1,
   "metadata": {},
   "outputs": [],
   "source": [
    "import string\n",
    "import cv2 as cv\n",
    "import random\n",
    "import numpy as np\n"
   ]
  },
  {
   "cell_type": "code",
   "execution_count": 2,
   "metadata": {},
   "outputs": [],
   "source": [
    "l = list(string.ascii_lowercase)\n",
    "for letter in list(string.ascii_uppercase):\n",
    "    l.append(letter)"
   ]
  },
  {
   "cell_type": "code",
   "execution_count": 3,
   "metadata": {},
   "outputs": [],
   "source": [
    "for letter in l:\n",
    "    image = cv.imread('new/' + letter + '.png', 0)\n",
    "    h = image.shape[0]\n",
    "    w = image.shape[1]\n",
    "\n",
    "    for x in range(0,h-1):\n",
    "        for y in range(0,w-1):\n",
    "            image[x,y] = 0 if image[x,y]>127 else 255\n",
    "            if x==0 or y==0 or x==h-1 or y==w-1:\n",
    "                image[x,y] = 0\n",
    "            \n",
    "    image = image[:101, :]\n",
    "    # cv.imshow('image',image)\n",
    "    # cv.waitKey(0)\n",
    "    # cv.destroyAllWindows()\n",
    "#     print letter\n",
    "#     print image.shape[0]\n",
    "\n",
    "    cv.imwrite('alphabets/' + letter + '.png', image)"
   ]
  },
  {
   "cell_type": "code",
   "execution_count": 4,
   "metadata": {},
   "outputs": [],
   "source": [
    "chars = \"\".join( [random.choice(string.letters) for i in xrange(1500)] )\n"
   ]
  },
  {
   "cell_type": "code",
   "execution_count": 5,
   "metadata": {},
   "outputs": [],
   "source": [
    "def getImg(ch):\n",
    "    return cv.imread('alphabets/' + ch + '.png', 0)"
   ]
  },
  {
   "cell_type": "code",
   "execution_count": 6,
   "metadata": {},
   "outputs": [],
   "source": [
    "max_width = 5000\n",
    "rows = []\n",
    "row_width = 0\n",
    "\n",
    "for ch in chars:\n",
    "    if(row_width == 0):\n",
    "        temp = getImg(ch)\n",
    "        row_width = temp.shape[1]\n",
    "    elif(row_width > max_width):\n",
    "        rows.append(temp)\n",
    "        temp = getImg(ch)\n",
    "        row_width = temp.shape[1]\n",
    "    else:\n",
    "        temp1 = getImg(ch)\n",
    "        row_width += temp1.shape[1]\n",
    "        temp = np.concatenate((temp, temp1), axis = 1)"
   ]
  },
  {
   "cell_type": "code",
   "execution_count": 7,
   "metadata": {},
   "outputs": [],
   "source": [
    "rows1 = []\n",
    "\n",
    "for row in rows:\n",
    "    row = row[:, :max_width]\n",
    "    rows1.append(row)\n",
    "    \n",
    "rows = rows1\n",
    "    \n",
    "final_img = rows[0]\n",
    "\n",
    "\n",
    "for row in rows[1:]:\n",
    "    final_img = np.concatenate((final_img, row), axis = 0)\n",
    "\n"
   ]
  },
  {
   "cell_type": "code",
   "execution_count": null,
   "metadata": {},
   "outputs": [],
   "source": [
    "scale_percent = 20 # percent of original size\n",
    "width = int(final_img.shape[1] * scale_percent / 100)\n",
    "height = int(final_img.shape[0] * scale_percent / 100)\n",
    "dim = (width, height)\n",
    "# resize image\n",
    "resized = cv.resize(final_img, dim, interpolation = cv.INTER_AREA)\n",
    "\n",
    "cv.imwrite('collage.png', resized)\n",
    "cv.imshow('image',resized)\n",
    "cv.waitKey(0)\n",
    "cv.destroyAllWindows()"
   ]
  },
  {
   "cell_type": "code",
   "execution_count": null,
   "metadata": {},
   "outputs": [],
   "source": []
  }
 ],
 "metadata": {
  "kernelspec": {
   "display_name": "Python 2",
   "language": "python",
   "name": "python2"
  },
  "language_info": {
   "codemirror_mode": {
    "name": "ipython",
    "version": 2
   },
   "file_extension": ".py",
   "mimetype": "text/x-python",
   "name": "python",
   "nbconvert_exporter": "python",
   "pygments_lexer": "ipython2",
   "version": "2.7.15rc1"
  }
 },
 "nbformat": 4,
 "nbformat_minor": 2
}
