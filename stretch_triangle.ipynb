{
 "cells": [
  {
   "cell_type": "code",
   "execution_count": 21,
   "metadata": {},
   "outputs": [],
   "source": [
    "import cv2 as cv\n",
    "import numpy as np\n",
    "import math"
   ]
  },
  {
   "cell_type": "code",
   "execution_count": 22,
   "metadata": {},
   "outputs": [],
   "source": [
    "txt_img = cv.imread('collage.png', 0)"
   ]
  },
  {
   "cell_type": "code",
   "execution_count": null,
   "metadata": {},
   "outputs": [],
   "source": [
    "WIDTH = 1000\n",
    "HEIGHT = 1000"
   ]
  },
  {
   "cell_type": "code",
   "execution_count": 23,
   "metadata": {},
   "outputs": [],
   "source": [
    "crop_img = txt_img[0:WIDTH, 0:HEIGHT]\n",
    "\n",
    "new_img = np.copy(crop_img)"
   ]
  },
  {
   "cell_type": "code",
   "execution_count": 24,
   "metadata": {},
   "outputs": [],
   "source": [
    "# p = np.array([[50, 50, 50],[10, 30, 20],[30, 15, 15]])\n",
    "\n",
    "# z_max = max(p[:,2])\n",
    "# z_min = min(p[:,2])\n",
    "\n"
   ]
  },
  {
   "cell_type": "markdown",
   "metadata": {},
   "source": [
    "Along x, bulge in center\n"
   ]
  },
  {
   "cell_type": "code",
   "execution_count": 25,
   "metadata": {},
   "outputs": [],
   "source": [
    "# for i in range(WIDTH/2):\n",
    "#     new_img[:,i] = crop_img[:, int(math.sqrt(i)*math.sqrt(499))]\n",
    "# for i in range(WIDTH/2):\n",
    "#     new_img[:,i+WIDTH/2] = crop_img[:, 999 - int(math.sqrt(499-i)*math.sqrt(499))]"
   ]
  },
  {
   "cell_type": "markdown",
   "metadata": {},
   "source": [
    "Along x, dip in center\n"
   ]
  },
  {
   "cell_type": "code",
   "execution_count": 26,
   "metadata": {},
   "outputs": [],
   "source": [
    "# for i in range(500):\n",
    "#     new_img[:,i] = crop_img[:, 499 - int(math.sqrt(499 - i)*math.sqrt(499))]\n",
    "# for i in range(500):\n",
    "#     new_img[:,i+500] = crop_img[:, 500 + int(math.sqrt(i)*math.sqrt(499))]"
   ]
  },
  {
   "cell_type": "markdown",
   "metadata": {},
   "source": [
    "Along xy, bulge in center"
   ]
  },
  {
   "cell_type": "code",
   "execution_count": 27,
   "metadata": {},
   "outputs": [],
   "source": [
    "# for j in range(500):\n",
    "#     jtemp = int(math.sqrt(j)*math.sqrt(499))\n",
    "#     for i in range(500):\n",
    "#         new_img[j,i] = crop_img[jtemp, int(math.sqrt(i)*math.sqrt(499))]\n",
    "#     for i in range(500):\n",
    "#         new_img[j,i+500] = crop_img[jtemp, 999 - int(math.sqrt(499-i)*math.sqrt(499))]\n",
    "# for j in range(500): \n",
    "#     jtemp = 999 - int(math.sqrt(499-j)*math.sqrt(499))\n",
    "#     for i in range(500):\n",
    "#         new_img[500 + j,i] = crop_img[jtemp, int(math.sqrt(i)*math.sqrt(499))]\n",
    "#     for i in range(500):\n",
    "#         new_img[500 + j,i+500] = crop_img[jtemp, 999 - int(math.sqrt(499-i)*math.sqrt(499))]"
   ]
  },
  {
   "cell_type": "markdown",
   "metadata": {},
   "source": [
    "Along xy, dip in center"
   ]
  },
  {
   "cell_type": "code",
   "execution_count": 28,
   "metadata": {},
   "outputs": [],
   "source": [
    "for j in range(500):\n",
    "    jtemp = 499 - int(math.sqrt(499 - j)*math.sqrt(499))\n",
    "    for i in range(500):\n",
    "        new_img[j,i] = crop_img[jtemp, 499 - int(math.sqrt(499 - i)*math.sqrt(499))]\n",
    "    for i in range(500):\n",
    "        new_img[j,i+500] = crop_img[jtemp, 500 + int(math.sqrt(i)*math.sqrt(499))]\n",
    "for j in range(500):\n",
    "    jtemp = 500 + int(math.sqrt(j)*math.sqrt(499))\n",
    "    for i in range(500):\n",
    "        new_img[500 + j,i] = crop_img[jtemp, 499 - int(math.sqrt(499 - i)*math.sqrt(499))]\n",
    "    for i in range(500):\n",
    "        new_img[500 + j,i+500] = crop_img[jtemp, 500 + int(math.sqrt(i)*math.sqrt(499))]"
   ]
  },
  {
   "cell_type": "code",
   "execution_count": 29,
   "metadata": {},
   "outputs": [
    {
     "data": {
      "text/plain": [
       "True"
      ]
     },
     "execution_count": 29,
     "metadata": {},
     "output_type": "execute_result"
    }
   ],
   "source": [
    "# cv.imshow('image',new_img)\n",
    "# cv.waitKey(0)\n",
    "# cv.destroyAllWindows()\n",
    "\n",
    "cv.imwrite('xymanip.png', new_img)"
   ]
  },
  {
   "cell_type": "code",
   "execution_count": null,
   "metadata": {},
   "outputs": [],
   "source": []
  }
 ],
 "metadata": {
  "kernelspec": {
   "display_name": "Python 2",
   "language": "python",
   "name": "python2"
  },
  "language_info": {
   "codemirror_mode": {
    "name": "ipython",
    "version": 2
   },
   "file_extension": ".py",
   "mimetype": "text/x-python",
   "name": "python",
   "nbconvert_exporter": "python",
   "pygments_lexer": "ipython2",
   "version": "2.7.15rc1"
  }
 },
 "nbformat": 4,
 "nbformat_minor": 2
}
