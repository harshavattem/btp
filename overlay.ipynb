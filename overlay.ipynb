{
 "cells": [
  {
   "cell_type": "code",
   "execution_count": null,
   "metadata": {},
   "outputs": [],
   "source": [
    "import cv2 as cv\n",
    "import numpy as np\n",
    "np.set_printoptions(threshold='nan')\n",
    "\n",
    "gray = cv.imread('gray.jpg',0)\n",
    "alpha = cv.imread('alphabets/A.png',0)\n",
    "\n",
    "new_alpha = cv.resize(gray,(10,10),interpolation = cv.INTER_AREA)\n",
    "new_gray = cv.resize(gray,(400,400),interpolation = cv.INTER_AREA)\n",
    "\n",
    "\n",
    "(thresh,new_alpha) = cv.threshold(new_alpha, 128, 255, cv.THRESH_BINARY | cv.THRESH_OTSU)"
   ]
  },
  {
   "cell_type": "code",
   "execution_count": null,
   "metadata": {},
   "outputs": [],
   "source": [
    "base_x=0\n",
    "base_y=0\n",
    "final = np.zeros((400,400))\n",
    "for i in range (0,40):\n",
    "    for j in range (0,40):\n",
    "        for x in range (0,10):\n",
    "            for y in range (0,10):\n",
    "                if new_alpha[x][y] != 255:\n",
    "                    final[base_x+x][base_y+y]=new_gray[base_x+x][base_y+y]\n",
    "        base_x+=10\n",
    "    base_x=0\n",
    "    base_y+=10\n",
    "base_y=0    \n",
    "\n",
    "# final = final.astype(int)\n",
    "\n",
    "# cv.imshow(\"Resized image\", np.array(final, dtype = np.uint8 ))\n",
    "cv.imshow(\"Resized image\", new_alpha)\n",
    "cv.waitKey(0)\n",
    "cv.destroyAllWindows()\n",
    "\n"
   ]
  },
  {
   "cell_type": "code",
   "execution_count": null,
   "metadata": {},
   "outputs": [],
   "source": []
  }
 ],
 "metadata": {
  "kernelspec": {
   "display_name": "Python 2",
   "language": "python",
   "name": "python2"
  },
  "language_info": {
   "codemirror_mode": {
    "name": "ipython",
    "version": 2
   },
   "file_extension": ".py",
   "mimetype": "text/x-python",
   "name": "python",
   "nbconvert_exporter": "python",
   "pygments_lexer": "ipython2",
   "version": "2.7.15rc1"
  }
 },
 "nbformat": 4,
 "nbformat_minor": 2
}
