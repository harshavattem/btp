{
 "cells": [
  {
   "cell_type": "code",
   "execution_count": 9,
   "metadata": {},
   "outputs": [],
   "source": [
    "import string\n",
    "import cv2 as cv\n",
    "import random\n",
    "import numpy as np\n",
    "import re\n"
   ]
  },
  {
   "cell_type": "code",
   "execution_count": 10,
   "metadata": {},
   "outputs": [],
   "source": [
    "l = list(string.ascii_lowercase)\n",
    "for letter in list(string.ascii_uppercase):\n",
    "    l.append(letter)"
   ]
  },
  {
   "cell_type": "code",
   "execution_count": 11,
   "metadata": {},
   "outputs": [],
   "source": [
    "for letter in l:\n",
    "    image = cv.imread('new/' + letter + '.png', 0)\n",
    "    h = image.shape[0]\n",
    "    w = image.shape[1]\n",
    "\n",
    "    for x in range(0,h-1):\n",
    "        for y in range(0,w-1):\n",
    "            image[x,y] = 0 if image[x,y]>127 else 255\n",
    "            if x==0 or y==0 or x==h-1 or y==w-1:\n",
    "                image[x,y] = 0\n",
    "            \n",
    "    image = image[:101, :]\n",
    "    # cv.imshow('image',image)\n",
    "    # cv.waitKey(0)\n",
    "    # cv.destroyAllWindows()\n",
    "#     print letter\n",
    "#     print image.shape[0]\n",
    "\n",
    "    cv.imwrite('alphabets/' + letter + '.png', image)"
   ]
  },
  {
   "cell_type": "code",
   "execution_count": 12,
   "metadata": {},
   "outputs": [],
   "source": [
    "chars = \"\".join( [random.choice(string.letters) for i in xrange(15000)] )\n",
    "chars = \"Lorem ipsum dolor sit amet, consectetur adipiscing elit. Nam vulputate ultricies leo et vehicula. Cras gravida odio et accumsan finibus. Phasellus pretium urna ut metus faucibus vulputate. Aenean luctus elit ac laoreet maximus. Duis lacinia tortor ut metus aliquet, eget dignissim nisi mollis. In hac habitasse platea dictumst. Vestibulum non odio ante. Phasellus at turpis rutrum, finibus sapien sed, posuere quam. Quisque non tempus nulla. Vestibulum ut laoreet eros, nec convallis dui. Etiam vel nisi consectetur nisl ullamcorper accumsan in non libero. Quisque facilisis non magna sed ullamcorper. Sed bibendum erat felis, pulvinar pretium ligula tempor eu. Maecenas mauris sapien, pellentesque sit amet malesuada et, pretium in ipsum. Pellentesque aliquet odio et felis sagittis, ut lacinia arcu dictum. Cras finibus malesuada ante at pulvinar. Cras in urna neque. Quisque a lorem ut lacus ultricies aliquet. Nam lacinia arcu at nulla ornare sagittis. Vivamus ultrices orci feugiat augue malesuada laoreet. Sed imperdiet convallis risus, et consequat lectus varius sed. Etiam non felis quis enim feugiat suscipit. Integer in imperdiet libero, ut facilisis lorem. In dictum eros vel est fermentum elementum. In nulla purus, vestibulum et interdum id, lacinia faucibus eros. Suspendisse eu bibendum odio, vel sodales nisi. Ut vitae ex dignissim, dictum nulla ac, sagittis nisi.Phasellus congue turpis nunc, quis luctus lacus elementum at. Nam sed sollicitudin nunc. Morbi sed elit et magna convallis imperdiet. Sed nec imperdiet nunc. Donec eget odio feugiat, laoreet purus eget, pellentesque dui. Ut luctus iaculis aliquam. Pellentesque habitant morbi tristique senectus et netus et malesuada fames ac turpis egestas. Maecenas id lorem tortor. Donec volutpat cursus auctor.Aenean iaculis, urna a maximus accumsan, magna tellus dictum sem, sodales ornare nisi urna ut eros. Vivamus id vehicula magna, non tincidunt lacus. Etiam vel consectetur odio. Donec eget lectus vitae lectus lobortis tristique vulputate eget massa. Donec facilisis eleifend erat nec euismod. Fusce molestie ex nec tincidunt malesuada. Integer sed auctor augue, a pretium mi. Nullam efficitur, est in interdum cursus, est dolor tincidunt lacus, vel tincidunt ligula enim vitae diam. Fusce condimentum turpis sed erat mattis mattis. Cras lorem nisi, posuere eget lorem et, mollis porttitor nunc.Maecenas tempus dui justo, a mattis diam lobortis eu. Pellentesque fermentum est et mauris gravida aliquet. Aenean velit lectus, auctor ac libero quis, pulvinar porttitor dolor. Nunc mi ante, sodales eget odio vel, rhoncus sodales nulla. Donec sed metus at urna volutpat aliquam. Ut fringilla et quam vel molestie. Lorem ipsum dolor sit amet, consectetur adipiscing elit. Morbi dignissim commodo magna, et convallis dolor rutrum non. Nulla iaculis maximus orci. Fusce non arcu vitae diam tincidunt viverra. In metus libero, eleifend ut turpis ac, convallis vehicula dolor. Ut eget pulvinar nunc. Pellentesque sed dui mi.\"\n",
    "chars = \"\".join(re.findall(\"[a-zA-Z]+\", chars))\n"
   ]
  },
  {
   "cell_type": "code",
   "execution_count": 13,
   "metadata": {},
   "outputs": [],
   "source": [
    "def getImg(ch):\n",
    "    return cv.imread('alphabets/' + ch + '.png', 0)"
   ]
  },
  {
   "cell_type": "code",
   "execution_count": 14,
   "metadata": {},
   "outputs": [],
   "source": [
    "max_width = 4000\n",
    "rows = []\n",
    "row_width = 0\n",
    "\n",
    "for ch in chars:\n",
    "    if(row_width == 0):\n",
    "        temp = getImg(ch)\n",
    "        row_width = temp.shape[1]\n",
    "    elif(row_width > max_width):\n",
    "        rows.append(temp)\n",
    "        temp = getImg(ch)\n",
    "        row_width = temp.shape[1]\n",
    "    else:\n",
    "        temp1 = getImg(ch)\n",
    "        row_width += temp1.shape[1]\n",
    "        temp = np.concatenate((temp, temp1), axis = 1)"
   ]
  },
  {
   "cell_type": "code",
   "execution_count": 15,
   "metadata": {},
   "outputs": [],
   "source": [
    "rows1 = []\n",
    "\n",
    "for row in rows:\n",
    "    row = row[:, :max_width]\n",
    "    rows1.append(row)\n",
    "    \n",
    "rows = rows1\n",
    "    \n",
    "final_img = rows[0]\n",
    "\n",
    "\n",
    "for row in rows[1:]:\n",
    "    final_img = np.concatenate((final_img, row), axis = 0)\n",
    "\n"
   ]
  },
  {
   "cell_type": "code",
   "execution_count": 16,
   "metadata": {},
   "outputs": [
    {
     "data": {
      "text/plain": [
       "True"
      ]
     },
     "execution_count": 16,
     "metadata": {},
     "output_type": "execute_result"
    }
   ],
   "source": [
    "scale_percent = 20 # percent of original size\n",
    "width = int(final_img.shape[1] * scale_percent / 100)\n",
    "height = int(final_img.shape[0] * scale_percent / 100)\n",
    "dim = (width, height)\n",
    "# resize image\n",
    "resized = cv.resize(final_img, dim, interpolation = cv.INTER_AREA)\n",
    "\n",
    "cv.imwrite('textimg.png', resized)\n",
    "# cv.imshow('image',resized)\n",
    "# cv.waitKey(0)\n",
    "# cv.destroyAllWindows()\n"
   ]
  },
  {
   "cell_type": "code",
   "execution_count": null,
   "metadata": {},
   "outputs": [],
   "source": []
  }
 ],
 "metadata": {
  "kernelspec": {
   "display_name": "Python 2",
   "language": "python",
   "name": "python2"
  },
  "language_info": {
   "codemirror_mode": {
    "name": "ipython",
    "version": 2
   },
   "file_extension": ".py",
   "mimetype": "text/x-python",
   "name": "python",
   "nbconvert_exporter": "python",
   "pygments_lexer": "ipython2",
   "version": "2.7.15rc1"
  }
 },
 "nbformat": 4,
 "nbformat_minor": 2
}
