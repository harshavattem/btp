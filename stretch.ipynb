{
 "cells": [
  {
   "cell_type": "code",
   "execution_count": 152,
   "metadata": {},
   "outputs": [],
   "source": [
    "import cv2 as cv\n",
    "import numpy as np\n",
    "import math"
   ]
  },
  {
   "cell_type": "code",
   "execution_count": 153,
   "metadata": {},
   "outputs": [],
   "source": [
    "txt_img = cv.imread('textimg1.png', 0)"
   ]
  },
  {
   "cell_type": "code",
   "execution_count": 154,
   "metadata": {},
   "outputs": [],
   "source": [
    "WIDTH = 1000\n",
    "HEIGHT = 1000\n",
    "WIDTH1 = WIDTH-1\n",
    "HEIGHT1 = HEIGHT-1\n",
    "WIDTHHALF = WIDTH/2\n",
    "HEIGHTHALF = HEIGHT/2\n",
    "WIDTHHALF1 = WIDTHHALF-1\n",
    "HEIGHTHALF1 = HEIGHTHALF-1"
   ]
  },
  {
   "cell_type": "code",
   "execution_count": 155,
   "metadata": {},
   "outputs": [],
   "source": [
    "crop_img = txt_img[0:HEIGHT, 0:WIDTH]\n",
    "\n",
    "new_img = np.copy(crop_img)"
   ]
  },
  {
   "cell_type": "code",
   "execution_count": 156,
   "metadata": {},
   "outputs": [],
   "source": [
    "# p = np.array([[50, 50, 50],[10, 30, 20],[30, 15, 15]])\n",
    "\n",
    "# z_max = max(p[:,2])\n",
    "# z_min = min(p[:,2])\n",
    "\n"
   ]
  },
  {
   "cell_type": "markdown",
   "metadata": {},
   "source": [
    "Along x, bulge in center\n"
   ]
  },
  {
   "cell_type": "code",
   "execution_count": 157,
   "metadata": {},
   "outputs": [],
   "source": [
    "# for i in range(WIDTHHALF):\n",
    "#     new_img[:,i] = crop_img[:, int(math.sqrt(i)*math.sqrt(WIDTHHALF1))]\n",
    "# for i in range(WIDTHHALF):\n",
    "#     new_img[:,i+WIDTHHALF] = crop_img[:, WIDTH1 - int(math.sqrt(WIDTHHALF1-i)*math.sqrt(WIDTHHALF1))]"
   ]
  },
  {
   "cell_type": "markdown",
   "metadata": {},
   "source": [
    "Along x, dip in center\n"
   ]
  },
  {
   "cell_type": "code",
   "execution_count": 158,
   "metadata": {},
   "outputs": [],
   "source": [
    "# for i in range(WIDTHHALF):\n",
    "#     new_img[:,i] = crop_img[:, WIDTHHALF1 - int(math.sqrt(WIDTHHALF1 - i)*math.sqrt(WIDTHHALF1))]\n",
    "# for i in range(WIDTHHALF):\n",
    "#     new_img[:,i+WIDTHHALF] = crop_img[:, WIDTHHALF + int(math.sqrt(i)*math.sqrt(WIDTHHALF1))]"
   ]
  },
  {
   "cell_type": "markdown",
   "metadata": {},
   "source": [
    "Along xy, bulge in center"
   ]
  },
  {
   "cell_type": "code",
   "execution_count": 159,
   "metadata": {},
   "outputs": [],
   "source": [
    "# for j in range(HEIGHTHALF):\n",
    "#     jtemp = int(math.sqrt(j)*math.sqrt(HEIGHTHALF1))\n",
    "#     for i in range(WIDTHHALF):\n",
    "#         new_img[j,i] = crop_img[jtemp, int(math.sqrt(i)*math.sqrt(WIDTHHALF1))]\n",
    "#     for i in range(WIDTHHALF):\n",
    "#         new_img[j,i+WIDTHHALF] = crop_img[jtemp, WIDTH1 - int(math.sqrt(WIDTHHALF1-i)*math.sqrt(WIDTHHALF1))]\n",
    "# for j in range(HEIGHTHALF): \n",
    "#     jtemp = HEIGHT1 - int(math.sqrt(HEIGHTHALF1-j)*math.sqrt(HEIGHTHALF1))\n",
    "#     for i in range(WIDTHHALF):\n",
    "#         new_img[HEIGHTHALF + j,i] = crop_img[jtemp, int(math.sqrt(i)*math.sqrt(WIDTHHALF1))]\n",
    "#     for i in range(WIDTHHALF):\n",
    "#         new_img[HEIGHTHALF + j,i+WIDTHHALF] = crop_img[jtemp, WIDTH1 - int(math.sqrt(WIDTHHALF1-i)*math.sqrt(WIDTHHALF1))]"
   ]
  },
  {
   "cell_type": "markdown",
   "metadata": {},
   "source": [
    "Along xy, dip in center"
   ]
  },
  {
   "cell_type": "code",
   "execution_count": 160,
   "metadata": {},
   "outputs": [],
   "source": [
    "for j in range(HEIGHTHALF):\n",
    "    jtemp = HEIGHTHALF1 - int(math.sqrt(HEIGHTHALF1 - j)*math.sqrt(HEIGHTHALF1))\n",
    "    for i in range(WIDTHHALF):\n",
    "        new_img[j,i] = crop_img[jtemp, WIDTHHALF1 - int(math.sqrt(WIDTHHALF1 - i)*math.sqrt(WIDTHHALF1))]\n",
    "    for i in range(WIDTHHALF):\n",
    "        new_img[j,i+WIDTHHALF] = crop_img[jtemp, WIDTHHALF + int(math.sqrt(i)*math.sqrt(WIDTHHALF1))]\n",
    "for j in range(HEIGHTHALF):\n",
    "    jtemp = HEIGHTHALF + int(math.sqrt(j)*math.sqrt(HEIGHTHALF1))\n",
    "    for i in range(WIDTHHALF):\n",
    "        new_img[HEIGHTHALF + j,i] = crop_img[jtemp, WIDTHHALF1 - int(math.sqrt(WIDTHHALF1 - i)*math.sqrt(WIDTHHALF1))]\n",
    "    for i in range(WIDTHHALF):\n",
    "        new_img[HEIGHTHALF + j,i+WIDTHHALF] = crop_img[jtemp, WIDTHHALF + int(math.sqrt(i)*math.sqrt(WIDTHHALF1))]"
   ]
  },
  {
   "cell_type": "code",
   "execution_count": 161,
   "metadata": {},
   "outputs": [
    {
     "data": {
      "text/plain": [
       "True"
      ]
     },
     "execution_count": 161,
     "metadata": {},
     "output_type": "execute_result"
    }
   ],
   "source": [
    "# cv.imshow('image',new_img)\n",
    "# cv.waitKey(0)\n",
    "# cv.destroyAllWindows()\n",
    "\n",
    "cv.imwrite('a1.png', new_img)"
   ]
  },
  {
   "cell_type": "code",
   "execution_count": null,
   "metadata": {},
   "outputs": [],
   "source": []
  }
 ],
 "metadata": {
  "kernelspec": {
   "display_name": "Python 2",
   "language": "python",
   "name": "python2"
  },
  "language_info": {
   "codemirror_mode": {
    "name": "ipython",
    "version": 2
   },
   "file_extension": ".py",
   "mimetype": "text/x-python",
   "name": "python",
   "nbconvert_exporter": "python",
   "pygments_lexer": "ipython2",
   "version": "2.7.15rc1"
  }
 },
 "nbformat": 4,
 "nbformat_minor": 2
}
